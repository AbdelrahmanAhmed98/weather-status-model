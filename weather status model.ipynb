{
 "cells": [
  {
   "cell_type": "code",
   "execution_count": 3,
   "id": "56494b35",
   "metadata": {},
   "outputs": [],
   "source": [
    "import requests"
   ]
  },
  {
   "cell_type": "code",
   "execution_count": 4,
   "id": "bd047306",
   "metadata": {},
   "outputs": [
    {
     "data": {
      "text/plain": [
       "b'{\"consolidated_weather\":[{\"id\":6739699172376576,\"weather_state_name\":\"Clear\",\"weather_state_abbr\":\"c\",\"wind_direction_compass\":\"NNE\",\"created\":\"2021-10-22T22:34:25.762803Z\",\"applicable_date\":\"2021-10-23\",\"min_temp\":18.465,\"max_temp\":29.134999999999998,\"the_temp\":27.085,\"wind_speed\":7.240907430069726,\"wind_direction\":12.000000000000002,\"air_pressure\":1020.0,\"humidity\":49,\"visibility\":13.444608486439195,\"predictability\":68},{\"id\":5273053740138496,\"weather_state_name\":\"Clear\",\"weather_state_abbr\":\"c\",\"wind_direction_compass\":\"NNE\",\"created\":\"2021-10-22T22:34:28.347829Z\",\"applicable_date\":\"2021-10-24\",\"min_temp\":17.035,\"max_temp\":28.75,\"the_temp\":26.565,\"wind_speed\":6.60412057498608,\"wind_direction\":26.16056937829353,\"air_pressure\":1019.0,\"humidity\":49,\"visibility\":13.813702974628171,\"predictability\":68},{\"id\":5945490295226368,\"weather_state_name\":\"Clear\",\"weather_state_abbr\":\"c\",\"wind_direction_compass\":\"NNE\",\"created\":\"2021-10-22T22:34:32.255534Z\",\"applicable_date\":\"2021-10-25\",\"min_temp\":18.25,\"max_temp\":29.595,\"the_temp\":27.700000000000003,\"wind_speed\":6.264279954715131,\"wind_direction\":15.500000000000004,\"air_pressure\":1016.0,\"humidity\":53,\"visibility\":13.730749920464486,\"predictability\":68},{\"id\":6117660426240000,\"weather_state_name\":\"Clear\",\"weather_state_abbr\":\"c\",\"wind_direction_compass\":\"NE\",\"created\":\"2021-10-22T22:34:35.267764Z\",\"applicable_date\":\"2021-10-26\",\"min_temp\":18.37,\"max_temp\":29.905,\"the_temp\":28.130000000000003,\"wind_speed\":7.416396732903841,\"wind_direction\":35.15614670944568,\"air_pressure\":1016.0,\"humidity\":53,\"visibility\":13.727953750099418,\"predictability\":68},{\"id\":4997404752347136,\"weather_state_name\":\"Clear\",\"weather_state_abbr\":\"c\",\"wind_direction_compass\":\"NE\",\"created\":\"2021-10-22T22:34:37.784971Z\",\"applicable_date\":\"2021-10-27\",\"min_temp\":19.45,\"max_temp\":30.83,\"the_temp\":27.17,\"wind_speed\":7.273783106657122,\"wind_direction\":47.5,\"air_pressure\":1015.0,\"humidity\":55,\"visibility\":9.999726596675416,\"predictability\":68},{\"id\":5382540341805056,\"weather_state_name\":\"Light Cloud\",\"weather_state_abbr\":\"lc\",\"wind_direction_compass\":\"NE\",\"created\":\"2021-10-22T22:34:40.351049Z\",\"applicable_date\":\"2021-10-28\",\"min_temp\":19.13,\"max_temp\":30.18,\"the_temp\":27.74,\"wind_speed\":6.251738646305576,\"wind_direction\":55.5,\"air_pressure\":1016.0,\"humidity\":53,\"visibility\":9.999726596675416,\"predictability\":70}],\"time\":\"2021-10-23T00:37:37.177302+02:00\",\"sun_rise\":\"2021-10-23T06:02:19.820786+02:00\",\"sun_set\":\"2021-10-23T17:15:53.428683+02:00\",\"timezone_name\":\"LMT\",\"parent\":{\"title\":\"Egypt\",\"location_type\":\"Country\",\"woeid\":23424802,\"latt_long\":\"26.837090,30.796391\"},\"sources\":[{\"title\":\"BBC\",\"slug\":\"bbc\",\"url\":\"http://www.bbc.co.uk/weather/\",\"crawl_rate\":360},{\"title\":\"Forecast.io\",\"slug\":\"forecast-io\",\"url\":\"http://forecast.io/\",\"crawl_rate\":480},{\"title\":\"HAMweather\",\"slug\":\"hamweather\",\"url\":\"http://www.hamweather.com/\",\"crawl_rate\":360},{\"title\":\"Met Office\",\"slug\":\"met-office\",\"url\":\"http://www.metoffice.gov.uk/\",\"crawl_rate\":180},{\"title\":\"OpenWeatherMap\",\"slug\":\"openweathermap\",\"url\":\"http://openweathermap.org/\",\"crawl_rate\":360},{\"title\":\"Weather Underground\",\"slug\":\"wunderground\",\"url\":\"https://www.wunderground.com/?apiref=fc30dc3cd224e19b\",\"crawl_rate\":720},{\"title\":\"World Weather Online\",\"slug\":\"world-weather-online\",\"url\":\"http://www.worldweatheronline.com/\",\"crawl_rate\":360}],\"title\":\"Cairo\",\"location_type\":\"City\",\"woeid\":1521894,\"latt_long\":\"30.049950,31.248600\",\"timezone\":\"Africa/Cairo\"}'"
      ]
     },
     "execution_count": 4,
     "metadata": {},
     "output_type": "execute_result"
    }
   ],
   "source": [
    "response=requests.get('https://www.metaweather.com/api/location/1521894/')\n",
    "response.content"
   ]
  },
  {
   "cell_type": "code",
   "execution_count": 5,
   "id": "9d33d16d",
   "metadata": {},
   "outputs": [
    {
     "data": {
      "text/plain": [
       "{'consolidated_weather': [{'id': 6739699172376576,\n",
       "   'weather_state_name': 'Clear',\n",
       "   'weather_state_abbr': 'c',\n",
       "   'wind_direction_compass': 'NNE',\n",
       "   'created': '2021-10-22T22:34:25.762803Z',\n",
       "   'applicable_date': '2021-10-23',\n",
       "   'min_temp': 18.465,\n",
       "   'max_temp': 29.134999999999998,\n",
       "   'the_temp': 27.085,\n",
       "   'wind_speed': 7.240907430069726,\n",
       "   'wind_direction': 12.000000000000002,\n",
       "   'air_pressure': 1020.0,\n",
       "   'humidity': 49,\n",
       "   'visibility': 13.444608486439195,\n",
       "   'predictability': 68},\n",
       "  {'id': 5273053740138496,\n",
       "   'weather_state_name': 'Clear',\n",
       "   'weather_state_abbr': 'c',\n",
       "   'wind_direction_compass': 'NNE',\n",
       "   'created': '2021-10-22T22:34:28.347829Z',\n",
       "   'applicable_date': '2021-10-24',\n",
       "   'min_temp': 17.035,\n",
       "   'max_temp': 28.75,\n",
       "   'the_temp': 26.565,\n",
       "   'wind_speed': 6.60412057498608,\n",
       "   'wind_direction': 26.16056937829353,\n",
       "   'air_pressure': 1019.0,\n",
       "   'humidity': 49,\n",
       "   'visibility': 13.813702974628171,\n",
       "   'predictability': 68},\n",
       "  {'id': 5945490295226368,\n",
       "   'weather_state_name': 'Clear',\n",
       "   'weather_state_abbr': 'c',\n",
       "   'wind_direction_compass': 'NNE',\n",
       "   'created': '2021-10-22T22:34:32.255534Z',\n",
       "   'applicable_date': '2021-10-25',\n",
       "   'min_temp': 18.25,\n",
       "   'max_temp': 29.595,\n",
       "   'the_temp': 27.700000000000003,\n",
       "   'wind_speed': 6.264279954715131,\n",
       "   'wind_direction': 15.500000000000004,\n",
       "   'air_pressure': 1016.0,\n",
       "   'humidity': 53,\n",
       "   'visibility': 13.730749920464486,\n",
       "   'predictability': 68},\n",
       "  {'id': 6117660426240000,\n",
       "   'weather_state_name': 'Clear',\n",
       "   'weather_state_abbr': 'c',\n",
       "   'wind_direction_compass': 'NE',\n",
       "   'created': '2021-10-22T22:34:35.267764Z',\n",
       "   'applicable_date': '2021-10-26',\n",
       "   'min_temp': 18.37,\n",
       "   'max_temp': 29.905,\n",
       "   'the_temp': 28.130000000000003,\n",
       "   'wind_speed': 7.416396732903841,\n",
       "   'wind_direction': 35.15614670944568,\n",
       "   'air_pressure': 1016.0,\n",
       "   'humidity': 53,\n",
       "   'visibility': 13.727953750099418,\n",
       "   'predictability': 68},\n",
       "  {'id': 4997404752347136,\n",
       "   'weather_state_name': 'Clear',\n",
       "   'weather_state_abbr': 'c',\n",
       "   'wind_direction_compass': 'NE',\n",
       "   'created': '2021-10-22T22:34:37.784971Z',\n",
       "   'applicable_date': '2021-10-27',\n",
       "   'min_temp': 19.45,\n",
       "   'max_temp': 30.83,\n",
       "   'the_temp': 27.17,\n",
       "   'wind_speed': 7.273783106657122,\n",
       "   'wind_direction': 47.5,\n",
       "   'air_pressure': 1015.0,\n",
       "   'humidity': 55,\n",
       "   'visibility': 9.999726596675416,\n",
       "   'predictability': 68},\n",
       "  {'id': 5382540341805056,\n",
       "   'weather_state_name': 'Light Cloud',\n",
       "   'weather_state_abbr': 'lc',\n",
       "   'wind_direction_compass': 'NE',\n",
       "   'created': '2021-10-22T22:34:40.351049Z',\n",
       "   'applicable_date': '2021-10-28',\n",
       "   'min_temp': 19.13,\n",
       "   'max_temp': 30.18,\n",
       "   'the_temp': 27.74,\n",
       "   'wind_speed': 6.251738646305576,\n",
       "   'wind_direction': 55.5,\n",
       "   'air_pressure': 1016.0,\n",
       "   'humidity': 53,\n",
       "   'visibility': 9.999726596675416,\n",
       "   'predictability': 70}],\n",
       " 'time': '2021-10-23T00:37:37.177302+02:00',\n",
       " 'sun_rise': '2021-10-23T06:02:19.820786+02:00',\n",
       " 'sun_set': '2021-10-23T17:15:53.428683+02:00',\n",
       " 'timezone_name': 'LMT',\n",
       " 'parent': {'title': 'Egypt',\n",
       "  'location_type': 'Country',\n",
       "  'woeid': 23424802,\n",
       "  'latt_long': '26.837090,30.796391'},\n",
       " 'sources': [{'title': 'BBC',\n",
       "   'slug': 'bbc',\n",
       "   'url': 'http://www.bbc.co.uk/weather/',\n",
       "   'crawl_rate': 360},\n",
       "  {'title': 'Forecast.io',\n",
       "   'slug': 'forecast-io',\n",
       "   'url': 'http://forecast.io/',\n",
       "   'crawl_rate': 480},\n",
       "  {'title': 'HAMweather',\n",
       "   'slug': 'hamweather',\n",
       "   'url': 'http://www.hamweather.com/',\n",
       "   'crawl_rate': 360},\n",
       "  {'title': 'Met Office',\n",
       "   'slug': 'met-office',\n",
       "   'url': 'http://www.metoffice.gov.uk/',\n",
       "   'crawl_rate': 180},\n",
       "  {'title': 'OpenWeatherMap',\n",
       "   'slug': 'openweathermap',\n",
       "   'url': 'http://openweathermap.org/',\n",
       "   'crawl_rate': 360},\n",
       "  {'title': 'Weather Underground',\n",
       "   'slug': 'wunderground',\n",
       "   'url': 'https://www.wunderground.com/?apiref=fc30dc3cd224e19b',\n",
       "   'crawl_rate': 720},\n",
       "  {'title': 'World Weather Online',\n",
       "   'slug': 'world-weather-online',\n",
       "   'url': 'http://www.worldweatheronline.com/',\n",
       "   'crawl_rate': 360}],\n",
       " 'title': 'Cairo',\n",
       " 'location_type': 'City',\n",
       " 'woeid': 1521894,\n",
       " 'latt_long': '30.049950,31.248600',\n",
       " 'timezone': 'Africa/Cairo'}"
      ]
     },
     "execution_count": 5,
     "metadata": {},
     "output_type": "execute_result"
    }
   ],
   "source": [
    "data=response.json()\n",
    "data"
   ]
  },
  {
   "cell_type": "code",
   "execution_count": 6,
   "id": "4494e69e",
   "metadata": {},
   "outputs": [
    {
     "name": "stdout",
     "output_type": "stream",
     "text": [
      "temperature: 27.085, humidity: 49, visibility: 13.444608486439195, air_pressure: 1020.0 , wind_speed: 7.240907430069726, datetime: 2021-10-22T22:34:25.762803Z\n"
     ]
    }
   ],
   "source": [
    "print(f\"temperature: {data['consolidated_weather'][0]['the_temp']}, humidity: {data['consolidated_weather'][0]['humidity']}, visibility: {data['consolidated_weather'][0]['visibility']}, air_pressure: {data['consolidated_weather'][0]['air_pressure']} , wind_speed: {data['consolidated_weather'][0]['wind_speed']}, datetime: {data['consolidated_weather'][0]['created']}\")"
   ]
  },
  {
   "cell_type": "code",
   "execution_count": 7,
   "id": "caf6623d",
   "metadata": {},
   "outputs": [
    {
     "name": "stdout",
     "output_type": "stream",
     "text": [
      "temperature: 27.085, humidity: 49, visibility: 13.444608486439195, air_pressure: 1020.0 , wind_speed: 7.240907430069726, datetime: 2021-10-22T22:34:25.762803Z\n"
     ]
    }
   ],
   "source": [
    "import csv\n",
    "import pandas as pd\n",
    "response=requests.get('https://www.metaweather.com/api/location/1521894/')\n",
    "response.content\n",
    "data=response.json()\n",
    "data\n",
    "print(f\"temperature: {data['consolidated_weather'][0]['the_temp']}, humidity: {data['consolidated_weather'][0]['humidity']}, visibility: {data['consolidated_weather'][0]['visibility']}, air_pressure: {data['consolidated_weather'][0]['air_pressure']} , wind_speed: {data['consolidated_weather'][0]['wind_speed']}, datetime: {data['consolidated_weather'][0]['created']}\")"
   ]
  },
  {
   "cell_type": "code",
   "execution_count": null,
   "id": "e7aaec6d",
   "metadata": {},
   "outputs": [],
   "source": [
    "with open('weather_status1.csv','a',newline='') as df:\n",
    "    writer=csv.writer(df)\n",
    "    for weather_status in data['consolidated_weather']:\n",
    "        temperature=weather_status['the_temp']\n",
    "        humidity=weather_status['humidity']\n",
    "        visibility=weather_status['visibility']\n",
    "        air_pressure=weather_status['air_pressure']\n",
    "        wind_speed=weather_status['wind_speed']\n",
    "        datetime=weather_status['created']\n",
    "        writer.writerow([temperature,humidity,visibility,air_pressure,wind_speed,datetime])"
   ]
  },
  {
   "cell_type": "code",
   "execution_count": null,
   "id": "cd416841",
   "metadata": {},
   "outputs": [],
   "source": [
    "df = pd.read_csv('weather_status.csv')\n",
    "df"
   ]
  }
 ],
 "metadata": {
  "kernelspec": {
   "display_name": "Python 3",
   "language": "python",
   "name": "python3"
  },
  "language_info": {
   "codemirror_mode": {
    "name": "ipython",
    "version": 3
   },
   "file_extension": ".py",
   "mimetype": "text/x-python",
   "name": "python",
   "nbconvert_exporter": "python",
   "pygments_lexer": "ipython3",
   "version": "3.8.8"
  }
 },
 "nbformat": 4,
 "nbformat_minor": 5
}
